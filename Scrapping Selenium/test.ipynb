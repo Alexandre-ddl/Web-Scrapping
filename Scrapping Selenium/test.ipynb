{
 "cells": [
  {
   "cell_type": "code",
   "execution_count": 18,
   "metadata": {},
   "outputs": [],
   "source": []
  },
  {
   "cell_type": "code",
   "execution_count": 28,
   "metadata": {},
   "outputs": [
    {
     "ename": "KeyboardInterrupt",
     "evalue": "",
     "output_type": "error",
     "traceback": [
      "\u001b[0;31m---------------------------------------------------------------------------\u001b[0m",
      "\u001b[0;31mKeyboardInterrupt\u001b[0m                         Traceback (most recent call last)",
      "Cell \u001b[0;32mIn[28], line 3\u001b[0m\n\u001b[1;32m      1\u001b[0m \u001b[38;5;28;01mfor\u001b[39;00m url \u001b[38;5;129;01min\u001b[39;00m filtered_urls[::\u001b[38;5;241m-\u001b[39m\u001b[38;5;241m1\u001b[39m][::\u001b[38;5;241m10\u001b[39m]:\n\u001b[1;32m      2\u001b[0m     save_path \u001b[38;5;241m=\u001b[39m \u001b[38;5;124m\"\u001b[39m\u001b[38;5;124mimages\u001b[39m\u001b[38;5;124m\"\u001b[39m  \n\u001b[0;32m----> 3\u001b[0m     products  \u001b[38;5;241m=\u001b[39m \u001b[43mget_product_info\u001b[49m\u001b[43m(\u001b[49m\u001b[43murl\u001b[49m\u001b[43m,\u001b[49m\u001b[43m \u001b[49m\u001b[43msave_path\u001b[49m\u001b[43m)\u001b[49m\n\u001b[1;32m      5\u001b[0m     \u001b[38;5;66;03m# Sauvegarde des informations dans un fichier CSV\u001b[39;00m\n\u001b[1;32m      6\u001b[0m     save_to_csv(products,\u001b[38;5;124m\"\u001b[39m\u001b[38;5;124m\"\u001b[39m)\n",
      "Cell \u001b[0;32mIn[18], line 13\u001b[0m, in \u001b[0;36mget_product_info\u001b[0;34m(url, save_path)\u001b[0m\n\u001b[1;32m     12\u001b[0m \u001b[38;5;28;01mdef\u001b[39;00m \u001b[38;5;21mget_product_info\u001b[39m(url, save_path):\n\u001b[0;32m---> 13\u001b[0m     response \u001b[38;5;241m=\u001b[39m \u001b[43mrequests\u001b[49m\u001b[38;5;241;43m.\u001b[39;49m\u001b[43mget\u001b[49m\u001b[43m(\u001b[49m\u001b[43murl\u001b[49m\u001b[43m)\u001b[49m\n\u001b[1;32m     14\u001b[0m     soup \u001b[38;5;241m=\u001b[39m BeautifulSoup(response\u001b[38;5;241m.\u001b[39mtext, \u001b[38;5;124m'\u001b[39m\u001b[38;5;124mhtml.parser\u001b[39m\u001b[38;5;124m'\u001b[39m)\n\u001b[1;32m     16\u001b[0m     \u001b[38;5;66;03m# Récupère le titre de la page\u001b[39;00m\n",
      "File \u001b[0;32m~/Desktop/Scrapping web/env/lib/python3.11/site-packages/requests/api.py:73\u001b[0m, in \u001b[0;36mget\u001b[0;34m(url, params, **kwargs)\u001b[0m\n\u001b[1;32m     62\u001b[0m \u001b[38;5;28;01mdef\u001b[39;00m \u001b[38;5;21mget\u001b[39m(url, params\u001b[38;5;241m=\u001b[39m\u001b[38;5;28;01mNone\u001b[39;00m, \u001b[38;5;241m*\u001b[39m\u001b[38;5;241m*\u001b[39mkwargs):\n\u001b[1;32m     63\u001b[0m \u001b[38;5;250m    \u001b[39m\u001b[38;5;124mr\u001b[39m\u001b[38;5;124;03m\"\"\"Sends a GET request.\u001b[39;00m\n\u001b[1;32m     64\u001b[0m \n\u001b[1;32m     65\u001b[0m \u001b[38;5;124;03m    :param url: URL for the new :class:`Request` object.\u001b[39;00m\n\u001b[0;32m   (...)\u001b[0m\n\u001b[1;32m     70\u001b[0m \u001b[38;5;124;03m    :rtype: requests.Response\u001b[39;00m\n\u001b[1;32m     71\u001b[0m \u001b[38;5;124;03m    \"\"\"\u001b[39;00m\n\u001b[0;32m---> 73\u001b[0m     \u001b[38;5;28;01mreturn\u001b[39;00m \u001b[43mrequest\u001b[49m\u001b[43m(\u001b[49m\u001b[38;5;124;43m\"\u001b[39;49m\u001b[38;5;124;43mget\u001b[39;49m\u001b[38;5;124;43m\"\u001b[39;49m\u001b[43m,\u001b[49m\u001b[43m \u001b[49m\u001b[43murl\u001b[49m\u001b[43m,\u001b[49m\u001b[43m \u001b[49m\u001b[43mparams\u001b[49m\u001b[38;5;241;43m=\u001b[39;49m\u001b[43mparams\u001b[49m\u001b[43m,\u001b[49m\u001b[43m \u001b[49m\u001b[38;5;241;43m*\u001b[39;49m\u001b[38;5;241;43m*\u001b[39;49m\u001b[43mkwargs\u001b[49m\u001b[43m)\u001b[49m\n",
      "File \u001b[0;32m~/Desktop/Scrapping web/env/lib/python3.11/site-packages/requests/api.py:59\u001b[0m, in \u001b[0;36mrequest\u001b[0;34m(method, url, **kwargs)\u001b[0m\n\u001b[1;32m     55\u001b[0m \u001b[38;5;66;03m# By using the 'with' statement we are sure the session is closed, thus we\u001b[39;00m\n\u001b[1;32m     56\u001b[0m \u001b[38;5;66;03m# avoid leaving sockets open which can trigger a ResourceWarning in some\u001b[39;00m\n\u001b[1;32m     57\u001b[0m \u001b[38;5;66;03m# cases, and look like a memory leak in others.\u001b[39;00m\n\u001b[1;32m     58\u001b[0m \u001b[38;5;28;01mwith\u001b[39;00m sessions\u001b[38;5;241m.\u001b[39mSession() \u001b[38;5;28;01mas\u001b[39;00m session:\n\u001b[0;32m---> 59\u001b[0m     \u001b[38;5;28;01mreturn\u001b[39;00m \u001b[43msession\u001b[49m\u001b[38;5;241;43m.\u001b[39;49m\u001b[43mrequest\u001b[49m\u001b[43m(\u001b[49m\u001b[43mmethod\u001b[49m\u001b[38;5;241;43m=\u001b[39;49m\u001b[43mmethod\u001b[49m\u001b[43m,\u001b[49m\u001b[43m \u001b[49m\u001b[43murl\u001b[49m\u001b[38;5;241;43m=\u001b[39;49m\u001b[43murl\u001b[49m\u001b[43m,\u001b[49m\u001b[43m \u001b[49m\u001b[38;5;241;43m*\u001b[39;49m\u001b[38;5;241;43m*\u001b[39;49m\u001b[43mkwargs\u001b[49m\u001b[43m)\u001b[49m\n",
      "File \u001b[0;32m~/Desktop/Scrapping web/env/lib/python3.11/site-packages/requests/sessions.py:589\u001b[0m, in \u001b[0;36mSession.request\u001b[0;34m(self, method, url, params, data, headers, cookies, files, auth, timeout, allow_redirects, proxies, hooks, stream, verify, cert, json)\u001b[0m\n\u001b[1;32m    584\u001b[0m send_kwargs \u001b[38;5;241m=\u001b[39m {\n\u001b[1;32m    585\u001b[0m     \u001b[38;5;124m\"\u001b[39m\u001b[38;5;124mtimeout\u001b[39m\u001b[38;5;124m\"\u001b[39m: timeout,\n\u001b[1;32m    586\u001b[0m     \u001b[38;5;124m\"\u001b[39m\u001b[38;5;124mallow_redirects\u001b[39m\u001b[38;5;124m\"\u001b[39m: allow_redirects,\n\u001b[1;32m    587\u001b[0m }\n\u001b[1;32m    588\u001b[0m send_kwargs\u001b[38;5;241m.\u001b[39mupdate(settings)\n\u001b[0;32m--> 589\u001b[0m resp \u001b[38;5;241m=\u001b[39m \u001b[38;5;28;43mself\u001b[39;49m\u001b[38;5;241;43m.\u001b[39;49m\u001b[43msend\u001b[49m\u001b[43m(\u001b[49m\u001b[43mprep\u001b[49m\u001b[43m,\u001b[49m\u001b[43m \u001b[49m\u001b[38;5;241;43m*\u001b[39;49m\u001b[38;5;241;43m*\u001b[39;49m\u001b[43msend_kwargs\u001b[49m\u001b[43m)\u001b[49m\n\u001b[1;32m    591\u001b[0m \u001b[38;5;28;01mreturn\u001b[39;00m resp\n",
      "File \u001b[0;32m~/Desktop/Scrapping web/env/lib/python3.11/site-packages/requests/sessions.py:703\u001b[0m, in \u001b[0;36mSession.send\u001b[0;34m(self, request, **kwargs)\u001b[0m\n\u001b[1;32m    700\u001b[0m start \u001b[38;5;241m=\u001b[39m preferred_clock()\n\u001b[1;32m    702\u001b[0m \u001b[38;5;66;03m# Send the request\u001b[39;00m\n\u001b[0;32m--> 703\u001b[0m r \u001b[38;5;241m=\u001b[39m \u001b[43madapter\u001b[49m\u001b[38;5;241;43m.\u001b[39;49m\u001b[43msend\u001b[49m\u001b[43m(\u001b[49m\u001b[43mrequest\u001b[49m\u001b[43m,\u001b[49m\u001b[43m \u001b[49m\u001b[38;5;241;43m*\u001b[39;49m\u001b[38;5;241;43m*\u001b[39;49m\u001b[43mkwargs\u001b[49m\u001b[43m)\u001b[49m\n\u001b[1;32m    705\u001b[0m \u001b[38;5;66;03m# Total elapsed time of the request (approximately)\u001b[39;00m\n\u001b[1;32m    706\u001b[0m elapsed \u001b[38;5;241m=\u001b[39m preferred_clock() \u001b[38;5;241m-\u001b[39m start\n",
      "File \u001b[0;32m~/Desktop/Scrapping web/env/lib/python3.11/site-packages/requests/adapters.py:486\u001b[0m, in \u001b[0;36mHTTPAdapter.send\u001b[0;34m(self, request, stream, timeout, verify, cert, proxies)\u001b[0m\n\u001b[1;32m    483\u001b[0m     timeout \u001b[38;5;241m=\u001b[39m TimeoutSauce(connect\u001b[38;5;241m=\u001b[39mtimeout, read\u001b[38;5;241m=\u001b[39mtimeout)\n\u001b[1;32m    485\u001b[0m \u001b[38;5;28;01mtry\u001b[39;00m:\n\u001b[0;32m--> 486\u001b[0m     resp \u001b[38;5;241m=\u001b[39m \u001b[43mconn\u001b[49m\u001b[38;5;241;43m.\u001b[39;49m\u001b[43murlopen\u001b[49m\u001b[43m(\u001b[49m\n\u001b[1;32m    487\u001b[0m \u001b[43m        \u001b[49m\u001b[43mmethod\u001b[49m\u001b[38;5;241;43m=\u001b[39;49m\u001b[43mrequest\u001b[49m\u001b[38;5;241;43m.\u001b[39;49m\u001b[43mmethod\u001b[49m\u001b[43m,\u001b[49m\n\u001b[1;32m    488\u001b[0m \u001b[43m        \u001b[49m\u001b[43murl\u001b[49m\u001b[38;5;241;43m=\u001b[39;49m\u001b[43murl\u001b[49m\u001b[43m,\u001b[49m\n\u001b[1;32m    489\u001b[0m \u001b[43m        \u001b[49m\u001b[43mbody\u001b[49m\u001b[38;5;241;43m=\u001b[39;49m\u001b[43mrequest\u001b[49m\u001b[38;5;241;43m.\u001b[39;49m\u001b[43mbody\u001b[49m\u001b[43m,\u001b[49m\n\u001b[1;32m    490\u001b[0m \u001b[43m        \u001b[49m\u001b[43mheaders\u001b[49m\u001b[38;5;241;43m=\u001b[39;49m\u001b[43mrequest\u001b[49m\u001b[38;5;241;43m.\u001b[39;49m\u001b[43mheaders\u001b[49m\u001b[43m,\u001b[49m\n\u001b[1;32m    491\u001b[0m \u001b[43m        \u001b[49m\u001b[43mredirect\u001b[49m\u001b[38;5;241;43m=\u001b[39;49m\u001b[38;5;28;43;01mFalse\u001b[39;49;00m\u001b[43m,\u001b[49m\n\u001b[1;32m    492\u001b[0m \u001b[43m        \u001b[49m\u001b[43massert_same_host\u001b[49m\u001b[38;5;241;43m=\u001b[39;49m\u001b[38;5;28;43;01mFalse\u001b[39;49;00m\u001b[43m,\u001b[49m\n\u001b[1;32m    493\u001b[0m \u001b[43m        \u001b[49m\u001b[43mpreload_content\u001b[49m\u001b[38;5;241;43m=\u001b[39;49m\u001b[38;5;28;43;01mFalse\u001b[39;49;00m\u001b[43m,\u001b[49m\n\u001b[1;32m    494\u001b[0m \u001b[43m        \u001b[49m\u001b[43mdecode_content\u001b[49m\u001b[38;5;241;43m=\u001b[39;49m\u001b[38;5;28;43;01mFalse\u001b[39;49;00m\u001b[43m,\u001b[49m\n\u001b[1;32m    495\u001b[0m \u001b[43m        \u001b[49m\u001b[43mretries\u001b[49m\u001b[38;5;241;43m=\u001b[39;49m\u001b[38;5;28;43mself\u001b[39;49m\u001b[38;5;241;43m.\u001b[39;49m\u001b[43mmax_retries\u001b[49m\u001b[43m,\u001b[49m\n\u001b[1;32m    496\u001b[0m \u001b[43m        \u001b[49m\u001b[43mtimeout\u001b[49m\u001b[38;5;241;43m=\u001b[39;49m\u001b[43mtimeout\u001b[49m\u001b[43m,\u001b[49m\n\u001b[1;32m    497\u001b[0m \u001b[43m        \u001b[49m\u001b[43mchunked\u001b[49m\u001b[38;5;241;43m=\u001b[39;49m\u001b[43mchunked\u001b[49m\u001b[43m,\u001b[49m\n\u001b[1;32m    498\u001b[0m \u001b[43m    \u001b[49m\u001b[43m)\u001b[49m\n\u001b[1;32m    500\u001b[0m \u001b[38;5;28;01mexcept\u001b[39;00m (ProtocolError, \u001b[38;5;167;01mOSError\u001b[39;00m) \u001b[38;5;28;01mas\u001b[39;00m err:\n\u001b[1;32m    501\u001b[0m     \u001b[38;5;28;01mraise\u001b[39;00m \u001b[38;5;167;01mConnectionError\u001b[39;00m(err, request\u001b[38;5;241m=\u001b[39mrequest)\n",
      "File \u001b[0;32m~/Desktop/Scrapping web/env/lib/python3.11/site-packages/urllib3/connectionpool.py:793\u001b[0m, in \u001b[0;36mHTTPConnectionPool.urlopen\u001b[0;34m(self, method, url, body, headers, retries, redirect, assert_same_host, timeout, pool_timeout, release_conn, chunked, body_pos, preload_content, decode_content, **response_kw)\u001b[0m\n\u001b[1;32m    790\u001b[0m response_conn \u001b[38;5;241m=\u001b[39m conn \u001b[38;5;28;01mif\u001b[39;00m \u001b[38;5;129;01mnot\u001b[39;00m release_conn \u001b[38;5;28;01melse\u001b[39;00m \u001b[38;5;28;01mNone\u001b[39;00m\n\u001b[1;32m    792\u001b[0m \u001b[38;5;66;03m# Make the request on the HTTPConnection object\u001b[39;00m\n\u001b[0;32m--> 793\u001b[0m response \u001b[38;5;241m=\u001b[39m \u001b[38;5;28;43mself\u001b[39;49m\u001b[38;5;241;43m.\u001b[39;49m\u001b[43m_make_request\u001b[49m\u001b[43m(\u001b[49m\n\u001b[1;32m    794\u001b[0m \u001b[43m    \u001b[49m\u001b[43mconn\u001b[49m\u001b[43m,\u001b[49m\n\u001b[1;32m    795\u001b[0m \u001b[43m    \u001b[49m\u001b[43mmethod\u001b[49m\u001b[43m,\u001b[49m\n\u001b[1;32m    796\u001b[0m \u001b[43m    \u001b[49m\u001b[43murl\u001b[49m\u001b[43m,\u001b[49m\n\u001b[1;32m    797\u001b[0m \u001b[43m    \u001b[49m\u001b[43mtimeout\u001b[49m\u001b[38;5;241;43m=\u001b[39;49m\u001b[43mtimeout_obj\u001b[49m\u001b[43m,\u001b[49m\n\u001b[1;32m    798\u001b[0m \u001b[43m    \u001b[49m\u001b[43mbody\u001b[49m\u001b[38;5;241;43m=\u001b[39;49m\u001b[43mbody\u001b[49m\u001b[43m,\u001b[49m\n\u001b[1;32m    799\u001b[0m \u001b[43m    \u001b[49m\u001b[43mheaders\u001b[49m\u001b[38;5;241;43m=\u001b[39;49m\u001b[43mheaders\u001b[49m\u001b[43m,\u001b[49m\n\u001b[1;32m    800\u001b[0m \u001b[43m    \u001b[49m\u001b[43mchunked\u001b[49m\u001b[38;5;241;43m=\u001b[39;49m\u001b[43mchunked\u001b[49m\u001b[43m,\u001b[49m\n\u001b[1;32m    801\u001b[0m \u001b[43m    \u001b[49m\u001b[43mretries\u001b[49m\u001b[38;5;241;43m=\u001b[39;49m\u001b[43mretries\u001b[49m\u001b[43m,\u001b[49m\n\u001b[1;32m    802\u001b[0m \u001b[43m    \u001b[49m\u001b[43mresponse_conn\u001b[49m\u001b[38;5;241;43m=\u001b[39;49m\u001b[43mresponse_conn\u001b[49m\u001b[43m,\u001b[49m\n\u001b[1;32m    803\u001b[0m \u001b[43m    \u001b[49m\u001b[43mpreload_content\u001b[49m\u001b[38;5;241;43m=\u001b[39;49m\u001b[43mpreload_content\u001b[49m\u001b[43m,\u001b[49m\n\u001b[1;32m    804\u001b[0m \u001b[43m    \u001b[49m\u001b[43mdecode_content\u001b[49m\u001b[38;5;241;43m=\u001b[39;49m\u001b[43mdecode_content\u001b[49m\u001b[43m,\u001b[49m\n\u001b[1;32m    805\u001b[0m \u001b[43m    \u001b[49m\u001b[38;5;241;43m*\u001b[39;49m\u001b[38;5;241;43m*\u001b[39;49m\u001b[43mresponse_kw\u001b[49m\u001b[43m,\u001b[49m\n\u001b[1;32m    806\u001b[0m \u001b[43m\u001b[49m\u001b[43m)\u001b[49m\n\u001b[1;32m    808\u001b[0m \u001b[38;5;66;03m# Everything went great!\u001b[39;00m\n\u001b[1;32m    809\u001b[0m clean_exit \u001b[38;5;241m=\u001b[39m \u001b[38;5;28;01mTrue\u001b[39;00m\n",
      "File \u001b[0;32m~/Desktop/Scrapping web/env/lib/python3.11/site-packages/urllib3/connectionpool.py:537\u001b[0m, in \u001b[0;36mHTTPConnectionPool._make_request\u001b[0;34m(self, conn, method, url, body, headers, retries, timeout, chunked, response_conn, preload_content, decode_content, enforce_content_length)\u001b[0m\n\u001b[1;32m    535\u001b[0m \u001b[38;5;66;03m# Receive the response from the server\u001b[39;00m\n\u001b[1;32m    536\u001b[0m \u001b[38;5;28;01mtry\u001b[39;00m:\n\u001b[0;32m--> 537\u001b[0m     response \u001b[38;5;241m=\u001b[39m \u001b[43mconn\u001b[49m\u001b[38;5;241;43m.\u001b[39;49m\u001b[43mgetresponse\u001b[49m\u001b[43m(\u001b[49m\u001b[43m)\u001b[49m\n\u001b[1;32m    538\u001b[0m \u001b[38;5;28;01mexcept\u001b[39;00m (BaseSSLError, \u001b[38;5;167;01mOSError\u001b[39;00m) \u001b[38;5;28;01mas\u001b[39;00m e:\n\u001b[1;32m    539\u001b[0m     \u001b[38;5;28mself\u001b[39m\u001b[38;5;241m.\u001b[39m_raise_timeout(err\u001b[38;5;241m=\u001b[39me, url\u001b[38;5;241m=\u001b[39murl, timeout_value\u001b[38;5;241m=\u001b[39mread_timeout)\n",
      "File \u001b[0;32m~/Desktop/Scrapping web/env/lib/python3.11/site-packages/urllib3/connection.py:466\u001b[0m, in \u001b[0;36mHTTPConnection.getresponse\u001b[0;34m(self)\u001b[0m\n\u001b[1;32m    463\u001b[0m \u001b[38;5;28;01mfrom\u001b[39;00m \u001b[38;5;21;01m.\u001b[39;00m\u001b[38;5;21;01mresponse\u001b[39;00m \u001b[38;5;28;01mimport\u001b[39;00m HTTPResponse\n\u001b[1;32m    465\u001b[0m \u001b[38;5;66;03m# Get the response from http.client.HTTPConnection\u001b[39;00m\n\u001b[0;32m--> 466\u001b[0m httplib_response \u001b[38;5;241m=\u001b[39m \u001b[38;5;28;43msuper\u001b[39;49m\u001b[43m(\u001b[49m\u001b[43m)\u001b[49m\u001b[38;5;241;43m.\u001b[39;49m\u001b[43mgetresponse\u001b[49m\u001b[43m(\u001b[49m\u001b[43m)\u001b[49m\n\u001b[1;32m    468\u001b[0m \u001b[38;5;28;01mtry\u001b[39;00m:\n\u001b[1;32m    469\u001b[0m     assert_header_parsing(httplib_response\u001b[38;5;241m.\u001b[39mmsg)\n",
      "File \u001b[0;32m/opt/homebrew/Cellar/python@3.11/3.11.6/Frameworks/Python.framework/Versions/3.11/lib/python3.11/http/client.py:1378\u001b[0m, in \u001b[0;36mHTTPConnection.getresponse\u001b[0;34m(self)\u001b[0m\n\u001b[1;32m   1376\u001b[0m \u001b[38;5;28;01mtry\u001b[39;00m:\n\u001b[1;32m   1377\u001b[0m     \u001b[38;5;28;01mtry\u001b[39;00m:\n\u001b[0;32m-> 1378\u001b[0m         \u001b[43mresponse\u001b[49m\u001b[38;5;241;43m.\u001b[39;49m\u001b[43mbegin\u001b[49m\u001b[43m(\u001b[49m\u001b[43m)\u001b[49m\n\u001b[1;32m   1379\u001b[0m     \u001b[38;5;28;01mexcept\u001b[39;00m \u001b[38;5;167;01mConnectionError\u001b[39;00m:\n\u001b[1;32m   1380\u001b[0m         \u001b[38;5;28mself\u001b[39m\u001b[38;5;241m.\u001b[39mclose()\n",
      "File \u001b[0;32m/opt/homebrew/Cellar/python@3.11/3.11.6/Frameworks/Python.framework/Versions/3.11/lib/python3.11/http/client.py:318\u001b[0m, in \u001b[0;36mHTTPResponse.begin\u001b[0;34m(self)\u001b[0m\n\u001b[1;32m    316\u001b[0m \u001b[38;5;66;03m# read until we get a non-100 response\u001b[39;00m\n\u001b[1;32m    317\u001b[0m \u001b[38;5;28;01mwhile\u001b[39;00m \u001b[38;5;28;01mTrue\u001b[39;00m:\n\u001b[0;32m--> 318\u001b[0m     version, status, reason \u001b[38;5;241m=\u001b[39m \u001b[38;5;28;43mself\u001b[39;49m\u001b[38;5;241;43m.\u001b[39;49m\u001b[43m_read_status\u001b[49m\u001b[43m(\u001b[49m\u001b[43m)\u001b[49m\n\u001b[1;32m    319\u001b[0m     \u001b[38;5;28;01mif\u001b[39;00m status \u001b[38;5;241m!=\u001b[39m CONTINUE:\n\u001b[1;32m    320\u001b[0m         \u001b[38;5;28;01mbreak\u001b[39;00m\n",
      "File \u001b[0;32m/opt/homebrew/Cellar/python@3.11/3.11.6/Frameworks/Python.framework/Versions/3.11/lib/python3.11/http/client.py:279\u001b[0m, in \u001b[0;36mHTTPResponse._read_status\u001b[0;34m(self)\u001b[0m\n\u001b[1;32m    278\u001b[0m \u001b[38;5;28;01mdef\u001b[39;00m \u001b[38;5;21m_read_status\u001b[39m(\u001b[38;5;28mself\u001b[39m):\n\u001b[0;32m--> 279\u001b[0m     line \u001b[38;5;241m=\u001b[39m \u001b[38;5;28mstr\u001b[39m(\u001b[38;5;28mself\u001b[39m\u001b[38;5;241m.\u001b[39mfp\u001b[38;5;241m.\u001b[39mreadline(_MAXLINE \u001b[38;5;241m+\u001b[39m \u001b[38;5;241m1\u001b[39m), \u001b[38;5;124m\"\u001b[39m\u001b[38;5;124miso-8859-1\u001b[39m\u001b[38;5;124m\"\u001b[39m)\n\u001b[1;32m    280\u001b[0m     \u001b[38;5;28;01mif\u001b[39;00m \u001b[38;5;28mlen\u001b[39m(line) \u001b[38;5;241m>\u001b[39m _MAXLINE:\n\u001b[1;32m    281\u001b[0m         \u001b[38;5;28;01mraise\u001b[39;00m LineTooLong(\u001b[38;5;124m\"\u001b[39m\u001b[38;5;124mstatus line\u001b[39m\u001b[38;5;124m\"\u001b[39m)\n",
      "File \u001b[0;32m/opt/homebrew/Cellar/python@3.11/3.11.6/Frameworks/Python.framework/Versions/3.11/lib/python3.11/socket.py:706\u001b[0m, in \u001b[0;36mSocketIO.readinto\u001b[0;34m(self, b)\u001b[0m\n\u001b[1;32m    704\u001b[0m \u001b[38;5;28;01mwhile\u001b[39;00m \u001b[38;5;28;01mTrue\u001b[39;00m:\n\u001b[1;32m    705\u001b[0m     \u001b[38;5;28;01mtry\u001b[39;00m:\n\u001b[0;32m--> 706\u001b[0m         \u001b[38;5;28;01mreturn\u001b[39;00m \u001b[38;5;28;43mself\u001b[39;49m\u001b[38;5;241;43m.\u001b[39;49m\u001b[43m_sock\u001b[49m\u001b[38;5;241;43m.\u001b[39;49m\u001b[43mrecv_into\u001b[49m\u001b[43m(\u001b[49m\u001b[43mb\u001b[49m\u001b[43m)\u001b[49m\n\u001b[1;32m    707\u001b[0m     \u001b[38;5;28;01mexcept\u001b[39;00m timeout:\n\u001b[1;32m    708\u001b[0m         \u001b[38;5;28mself\u001b[39m\u001b[38;5;241m.\u001b[39m_timeout_occurred \u001b[38;5;241m=\u001b[39m \u001b[38;5;28;01mTrue\u001b[39;00m\n",
      "File \u001b[0;32m/opt/homebrew/Cellar/python@3.11/3.11.6/Frameworks/Python.framework/Versions/3.11/lib/python3.11/ssl.py:1311\u001b[0m, in \u001b[0;36mSSLSocket.recv_into\u001b[0;34m(self, buffer, nbytes, flags)\u001b[0m\n\u001b[1;32m   1307\u001b[0m     \u001b[38;5;28;01mif\u001b[39;00m flags \u001b[38;5;241m!=\u001b[39m \u001b[38;5;241m0\u001b[39m:\n\u001b[1;32m   1308\u001b[0m         \u001b[38;5;28;01mraise\u001b[39;00m \u001b[38;5;167;01mValueError\u001b[39;00m(\n\u001b[1;32m   1309\u001b[0m           \u001b[38;5;124m\"\u001b[39m\u001b[38;5;124mnon-zero flags not allowed in calls to recv_into() on \u001b[39m\u001b[38;5;132;01m%s\u001b[39;00m\u001b[38;5;124m\"\u001b[39m \u001b[38;5;241m%\u001b[39m\n\u001b[1;32m   1310\u001b[0m           \u001b[38;5;28mself\u001b[39m\u001b[38;5;241m.\u001b[39m\u001b[38;5;18m__class__\u001b[39m)\n\u001b[0;32m-> 1311\u001b[0m     \u001b[38;5;28;01mreturn\u001b[39;00m \u001b[38;5;28;43mself\u001b[39;49m\u001b[38;5;241;43m.\u001b[39;49m\u001b[43mread\u001b[49m\u001b[43m(\u001b[49m\u001b[43mnbytes\u001b[49m\u001b[43m,\u001b[49m\u001b[43m \u001b[49m\u001b[43mbuffer\u001b[49m\u001b[43m)\u001b[49m\n\u001b[1;32m   1312\u001b[0m \u001b[38;5;28;01melse\u001b[39;00m:\n\u001b[1;32m   1313\u001b[0m     \u001b[38;5;28;01mreturn\u001b[39;00m \u001b[38;5;28msuper\u001b[39m()\u001b[38;5;241m.\u001b[39mrecv_into(buffer, nbytes, flags)\n",
      "File \u001b[0;32m/opt/homebrew/Cellar/python@3.11/3.11.6/Frameworks/Python.framework/Versions/3.11/lib/python3.11/ssl.py:1167\u001b[0m, in \u001b[0;36mSSLSocket.read\u001b[0;34m(self, len, buffer)\u001b[0m\n\u001b[1;32m   1165\u001b[0m \u001b[38;5;28;01mtry\u001b[39;00m:\n\u001b[1;32m   1166\u001b[0m     \u001b[38;5;28;01mif\u001b[39;00m buffer \u001b[38;5;129;01mis\u001b[39;00m \u001b[38;5;129;01mnot\u001b[39;00m \u001b[38;5;28;01mNone\u001b[39;00m:\n\u001b[0;32m-> 1167\u001b[0m         \u001b[38;5;28;01mreturn\u001b[39;00m \u001b[38;5;28;43mself\u001b[39;49m\u001b[38;5;241;43m.\u001b[39;49m\u001b[43m_sslobj\u001b[49m\u001b[38;5;241;43m.\u001b[39;49m\u001b[43mread\u001b[49m\u001b[43m(\u001b[49m\u001b[38;5;28;43mlen\u001b[39;49m\u001b[43m,\u001b[49m\u001b[43m \u001b[49m\u001b[43mbuffer\u001b[49m\u001b[43m)\u001b[49m\n\u001b[1;32m   1168\u001b[0m     \u001b[38;5;28;01melse\u001b[39;00m:\n\u001b[1;32m   1169\u001b[0m         \u001b[38;5;28;01mreturn\u001b[39;00m \u001b[38;5;28mself\u001b[39m\u001b[38;5;241m.\u001b[39m_sslobj\u001b[38;5;241m.\u001b[39mread(\u001b[38;5;28mlen\u001b[39m)\n",
      "\u001b[0;31mKeyboardInterrupt\u001b[0m: "
     ]
    }
   ],
   "source": [
    "for url in filtered_urls[::-1][::10]:\n",
    "    save_path = \"images\"  \n",
    "    products  = get_product_info(url, save_path)\n",
    "\n",
    "    # Sauvegarde des informations dans un fichier CSV\n",
    "    save_to_csv(products,\"\")"
   ]
  },
  {
   "cell_type": "code",
   "execution_count": 33,
   "metadata": {},
   "outputs": [
    {
     "ename": "NameError",
     "evalue": "name 'filtered_urls' is not defined",
     "output_type": "error",
     "traceback": [
      "\u001b[0;31m---------------------------------------------------------------------------\u001b[0m",
      "\u001b[0;31mNameError\u001b[0m                                 Traceback (most recent call last)",
      "Cell \u001b[0;32mIn[33], line 1\u001b[0m\n\u001b[0;32m----> 1\u001b[0m \u001b[38;5;28mlen\u001b[39m(\u001b[43mfiltered_urls\u001b[49m)\n",
      "\u001b[0;31mNameError\u001b[0m: name 'filtered_urls' is not defined"
     ]
    }
   ],
   "source": [
    "len(filtered_urls)"
   ]
  },
  {
   "cell_type": "code",
   "execution_count": 59,
   "metadata": {},
   "outputs": [
    {
     "name": "stdout",
     "output_type": "stream",
     "text": [
      "Avis client  1:**\n",
      "Titre: **Le soulagement est au rendez-vous !**\n",
      "Note: 5/5\n",
      "Avis: En tant que jeune maman, j'ai toujours été très attentive aux produits que je choisis pour mon petit bout. Les sucettes PERFECT de MAM sont rentrées dans notre vie comme un petit miracle. Mon bébé les a tout de suite acceptées, et je suis impressionnée par la qualité du silicone SkinSoft qui semble vraiment confortable pour lui. Les trous d'aération sont un véritable atout, surtout dans notre climat martiniquais où la chaleur peut provoquer rapidement des irritations. Depuis que nous les utilisons, mon bébé semble plus apaisé et les rougeurs autour de sa bouche ont totalement disparu. Le plus ? La boîte de transport qui permet de les stériliser facilement et de les emporter partout. Un sans faute pour nous !\n",
      "\n",
      "\n",
      "Avis client  2:**\n",
      "Titre: **Pratiques mais coloris aléatoire décevant**\n",
      "Note: 3/5\n",
      "Avis: Les sucettes MAM ont vraiment été bien pensées : le design symétrique est super pour le développement des dents de bébé, et les petits trous d'aération limitent les irritations. Par contre, je suis un peu déçue du système de coloris aléatoire. J'avais espéré recevoir des modèles aux motifs d'animaux spécifiques, mais les couleurs reçues n'étaient pas du tout à mon goût. C'est dommage car pour tout le reste, elles sont parfaites. Je recommande quand même pour la qualité, mais j'espère que MAM proposera un choix de coloris à l'avenir.\n",
      "\n",
      "\n",
      "Avis client  3:**\n",
      "Titre: **Adorées par bébé, adoptées par les parents !**\n",
      "Note: 5/5\n",
      "Avis: Ces sucettes MAM sont un vrai bonheur ! Mon bébé les a immédiatement adorées, et moi aussi. Le silicone est extrêmement doux et semble très agréable pour la bouche de mon fils. Ce que j'ai particulièrement aimé, c'est la forme plate de la sucette qui respecte le développement de ses dents et sa mâchoire. Aussi, les motifs d'animaux sont vraiment mignons (nous avons eu de la chance avec les coloris !). Le système de stérilisation dans la boîte de transport est un game-changer pour moi, simplifiant énormément notre routine. En résidant en Martinique, il est essentiel d'avoir des produits adaptés au climat pour éviter tout inconfort pour les bébés. Très satisfaite et je recomcommande vivement !\n"
     ]
    }
   ],
   "source": [
    "customer_reviews = enriched_info['customer_reviews'].choices[0].message.content.split(\"**Avis\")\n",
    "\n",
    "print('Avis client',customer_reviews[1])\n",
    "print('Avis client',customer_reviews[2])\n",
    "print('Avis client',customer_reviews[3])"
   ]
  },
  {
   "cell_type": "code",
   "execution_count": 52,
   "metadata": {},
   "outputs": [
    {
     "ename": "IndexError",
     "evalue": "list index out of range",
     "output_type": "error",
     "traceback": [
      "\u001b[0;31m---------------------------------------------------------------------------\u001b[0m",
      "\u001b[0;31mIndexError\u001b[0m                                Traceback (most recent call last)",
      "Cell \u001b[0;32mIn[52], line 3\u001b[0m\n\u001b[1;32m      1\u001b[0m customer_reviews \u001b[38;5;241m=\u001b[39m enriched_info[\u001b[38;5;124m'\u001b[39m\u001b[38;5;124mcustomer_reviews\u001b[39m\u001b[38;5;124m'\u001b[39m]\u001b[38;5;241m.\u001b[39mchoices[\u001b[38;5;241m0\u001b[39m]\u001b[38;5;241m.\u001b[39mmessage\u001b[38;5;241m.\u001b[39mcontent\u001b[38;5;241m.\u001b[39msplit(\u001b[38;5;124m\"\u001b[39m\u001b[38;5;124mAvis client\u001b[39m\u001b[38;5;124m\"\u001b[39m)\n\u001b[0;32m----> 3\u001b[0m \u001b[38;5;28mprint\u001b[39m(\u001b[38;5;124m'\u001b[39m\u001b[38;5;124mAvis client\u001b[39m\u001b[38;5;124m'\u001b[39m,\u001b[43mcustomer_reviews\u001b[49m\u001b[43m[\u001b[49m\u001b[38;5;241;43m1\u001b[39;49m\u001b[43m]\u001b[49m)\n\u001b[1;32m      4\u001b[0m \u001b[38;5;28mprint\u001b[39m(\u001b[38;5;124m'\u001b[39m\u001b[38;5;124mAvis client\u001b[39m\u001b[38;5;124m'\u001b[39m,customer_reviews[\u001b[38;5;241m2\u001b[39m])\n\u001b[1;32m      5\u001b[0m \u001b[38;5;28mprint\u001b[39m(\u001b[38;5;124m'\u001b[39m\u001b[38;5;124mAvis client\u001b[39m\u001b[38;5;124m'\u001b[39m,customer_reviews[\u001b[38;5;241m3\u001b[39m])\n",
      "\u001b[0;31mIndexError\u001b[0m: list index out of range"
     ]
    }
   ],
   "source": [
    "customer_reviews = enriched_info['customer_reviews'].choices[0].message.content.split(\"Avis client\")\n",
    "\n",
    "print('Avis client',customer_reviews[1])\n",
    "print('Avis client',customer_reviews[2])\n",
    "print('Avis client',customer_reviews[3])"
   ]
  },
  {
   "cell_type": "code",
   "execution_count": 60,
   "metadata": {},
   "outputs": [
    {
     "name": "stdout",
     "output_type": "stream",
     "text": [
      "Pour augmenter la visibilité de votre page produit sur votre site de pharmacie, il est crucial d'intégrer une liste de mots-clés pertinents pour le SEO. Voici une liste suggérée basée sur les informations fournies :\n",
      "\n",
      "1. Sucettes symétriques Perfect MAM\n",
      "2. Sucettes pour bébés 6 mois\n",
      "3. Sucette sans BPA BPS\n",
      "4. Silicone doux SkinSoft sucette\n",
      "5. Sucettes avec trous d'aération\n",
      "6. Sucettes calmantes pour bébé\n",
      "7. Sucette animaux MAM\n",
      "8. Sucettes apaisantes pour bébés\n",
      "9. Propylène sans BPA sucette\n",
      "10. Sucettes pour développement des dents\n",
      "11. Sterilisation sucette MAM\n",
      "12. Parapharmacie Boticinal bébé\n",
      "13. Sucettes MAM collerette arrondie\n",
      "14. Parapharmacie soins bébé Martinique\n",
      "15. Sucettes pour éviter irritations bébé\n",
      "16. Boîte transport stérilisation sucettes\n",
      "17. Conseils d'utilisation sucette bébé\n",
      "18. Zone de vente Martinique sucettes bébé\n",
      "19. MAM sucettes animaux 6 mois\n",
      "20. Bébé reste calme sucettes MAM\n",
      "\n",
      "N'oubliez pas d'utiliser ces mots-clés de manière naturelle dans le titre, la description, les balises meta, les URL, et le contenu de la page. Aussi, pensez à vérifier la concurrence sur ces mots-clés et à ajuster votre stratégie de contenu si nécessaire, pour mieux vous positionner sur les moteurs de recherche.\n"
     ]
    }
   ],
   "source": [
    "print(enriched_info['keywords'].choices[0].message.content)"
   ]
  },
  {
   "cell_type": "code",
   "execution_count": 61,
   "metadata": {},
   "outputs": [
    {
     "name": "stdout",
     "output_type": "stream",
     "text": [
      "1. \"Mam Perfect Animal - Sucettes Douces et Apaisantes pour Bébés +6 Mois, Pack de 2\"\n",
      "2. \"Sucettes Animaux MAM Perfect pour le Bien-être des Bébés dès 6 Mois, 2 pcs\"\n",
      "3. \"Paix et Confort pour Bébé: Sucettes Symétriques MAM Animal, 6+ Mois - Lot de 2\"\n",
      "4. \"Deux Sucettes MAM Perfect avec Motif Animaux - Douceur et Sécurité dès 6 Mois\"\n",
      "5. \"Nouveau: Sucettes Animaux MAM Perfect – Respirantes et Apaisantes, dès 6 mois, Pack Duo\"\n"
     ]
    }
   ],
   "source": [
    "print(enriched_info['titles'].choices[0].message.content)"
   ]
  },
  {
   "cell_type": "code",
   "execution_count": 62,
   "metadata": {},
   "outputs": [
    {
     "name": "stdout",
     "output_type": "stream",
     "text": [
      "Titre du blog : **Le Guide Ultime des Sucettes MAM pour Apaiser Bébé : Perfect, Plus qu'une Sucette !**\n",
      "\n",
      "Bonjour chers parents,\n",
      "\n",
      "La quête de la sucette idéale peut s'avérer être un véritable casse-tête face à l'abondance de choix sur le marché. Aujourd'hui, je veux vous parler d'un produit qui a su retenir mon attention et celle de nombreux parents soucieux du confort et du bien-être de leur bébé : la sucette symétrique Perfect pour animaux de MAM, disponible dès 6 mois et vendue par deux.\n",
      "\n",
      "**Pourquoi choisir les Sucettes Symétriques Perfect de MAM ?**\n",
      "\n",
      "1. **Respect du besoin naturel de succion** : Dès l'âge de 6 mois, nos petits explorateurs montrent un besoin de succion plus marqué. Les sucettes MAM ont été conçues pour répondre à ce besoin sans interférer avec le bon développement dentaire grâce à leur forme symétrique et plate.\n",
      "\n",
      "2. **Conception attentionnée** : Ces sucettes sont fabriquées en silicone SkinSoft doux sans BPA ni BPS, proposant une expérience de succion naturelle pour votre bébé. La douceur et le confort sont donc au premier plan, sans compromettre la santé de votre petit.\n",
      "\n",
      "3. **Innovations pour la peau** : Chacune de ces sucettes est dotée d'une collerette arrondie et de trous d'aération, permettant non seulement une meilleure circulation de l'air mais aussi de prévenir les irritations et rougeurs souvent causées par un usage prolongé de sucettes.\n",
      "\n",
      "4. **Sérénité pour bébé et parents** : Le design et les matériaux choisis pour ces sucettes visent à apaiser et calmer votre bébé en toutes circonstances, favorisant des moments de tranquillité et de bien-être pour toute la famille.\n",
      "\n",
      "5. **Facilité d'utilisation et de stérilisation** : La boîte de transport qui accompagne ces sucettes est un véritable plus. Non seulement elle facilite leur transport en toute hygiène, mais elle sert également de dispositif pour les stériliser simplement en les plongeant dans l'eau et en les chauffant pendant 5 minutes avant la première utilisation et régulièrement par la suite.\n",
      "\n",
      "**Conseils d'utilisation :**\n",
      "\n",
      "1. **Stérilisation** : Avant de remettre la sucette à votre bébé, surtout lors du premier usage, assurez-vous de la stériliser pendant 5 minutes. Répétez cela régulièrement pour garantir une hygiène parfaite.\n",
      "\n",
      "2. **Surveillance régulière** : Bien que conçues pour être sûres et durables, il est recommandé de vérifier l'intégrité de la sucette souvent pour s'assurer qu'aucune partie n'est détériorée ou prête à se détacher.\n",
      "\n",
      "3. **Alternance** : Utilisez la seconde sucette fournie dans le paquet pour permettre une rotation, s'assurant ainsi que chacune des sucettes ait le temps de sécher et de se reposer après la stérilisation.\n",
      "\n",
      "4. **Respect de l'âge** : Ces sucettes sont recommandées pour les bébés de 6 mois et plus. Respectez cette indication pour favoriser le bon développement de la bouche et des dents de votre enfant.\n",
      "\n",
      "La promesse des sucettes MAM Perfect est claire : apporter confort, sécurité, et hygiène au quotidien pour votre bébé. Ce faisant, elles se positionnent comme un choix judicieux pour les parents attentifs et aimants, désireux d'offrir le meilleur à leur enfant dès son plus jeune âge.\n",
      "\n",
      "Pour celles et ceux en Martinique, vous pouvez trouver ces merveilles chez Boticinal Parapharmacie, garantissant ainsi un accès facile à un produit de qualité pour les besoins de succion de votre petit trésor.\n",
      "\n",
      "Retenez bien : avec les sucettes MAM, ce n'est pas juste une question de succion, mais une véritable démarche vers le bien-être de votre bébé. Alors, prêts à essayer ?\n"
     ]
    }
   ],
   "source": [
    "print(enriched_info['blog_advice'].choices[0].message.content)"
   ]
  },
  {
   "cell_type": "markdown",
   "metadata": {},
   "source": [
    "# SELENIUM"
   ]
  },
  {
   "cell_type": "code",
   "execution_count": 14,
   "metadata": {},
   "outputs": [],
   "source": [
    "from selenium import webdriver\n",
    "\n",
    "# Configurer les options de Safari si nécessaire\n",
    "options = webdriver.SafariOptions()\n",
    "\n",
    "# Initialiser le pilote Safari\n",
    "driver = webdriver.Safari(options=options)\n",
    "\n",
    "# Naviguer vers le site web\n",
    "driver.get(\"https://www.boticinal.com/biotherm-eau-vitaminee-100ml.html\")\n"
   ]
  },
  {
   "cell_type": "code",
   "execution_count": 32,
   "metadata": {},
   "outputs": [
    {
     "name": "stdout",
     "output_type": "stream",
     "text": [
      "EAU_VITAMINEE___Eau_de_Toilette_Femme_100mL\n",
      "Image téléchargée et sauvegardée sous : EAU_VITAMINEE___Eau_de_Toilette_Femme_100mL/3367729571097.jpg\n",
      "Image téléchargée et sauvegardée sous : EAU_VITAMINEE___Eau_de_Toilette_Femme_100mL/3367729571097_2.jpg\n",
      "Image téléchargée et sauvegardée sous : EAU_VITAMINEE___Eau_de_Toilette_Femme_100mL/3367729571097_1.jpg\n"
     ]
    }
   ],
   "source": [
    "from selenium import webdriver\n",
    "from selenium.webdriver.common.by import By\n",
    "from selenium.webdriver.support.ui import WebDriverWait\n",
    "from selenium.webdriver.support import expected_conditions as EC\n",
    "import os\n",
    "import requests  # Assurez-vous d'importer requests\n",
    "from urllib.parse import urlparse\n",
    "\n",
    "\n",
    "# Initialiser le pilote Safari\n",
    "driver = webdriver.Safari()\n",
    "\n",
    "# Naviguer vers le site web\n",
    "driver.get(\"https://www.boticinal.com/biotherm-eau-vitaminee-100ml.html\")\n",
    "\n",
    "# Attendre que le bouton \"Continuer sans accepter\" soit chargé et cliquable\n",
    "wait = WebDriverWait(driver, 10)\n",
    "continue_button = wait.until(EC.element_to_be_clickable((By.CSS_SELECTOR, \".didomi-continue-without-agreeing\")))\n",
    "\n",
    "# Cliquer sur le bouton \"Continuer sans accepter\"\n",
    "continue_button.click()\n",
    "\n",
    "# Extraire le titre de la page et formater pour le nom du fichier\n",
    "page_title = driver.title.split('|')[0].strip().replace(' ', '_').replace(',', '').replace('-', '_')\n",
    "\n",
    "print(page_title)\n",
    "\n",
    "# Trouver tous les éléments d'image dans le div spécifié\n",
    "images = driver.find_elements(By.CSS_SELECTOR, \".fotorama__stage__shaft.fotorama__grab img\")\n",
    "\n",
    "# Créer un dossier pour les images si ce n'est pas déjà fait\n",
    "folder_name = page_title\n",
    "if not os.path.exists(folder_name):\n",
    "    os.makedirs(folder_name)\n",
    "\n",
    "# Télécharger chaque image\n",
    "for img in images:\n",
    "    img_url = img.get_attribute('src')\n",
    "    # Extraire le nom du fichier de l'URL de l'image\n",
    "    img_filename = urlparse(img_url).path.split('/')[-1]\n",
    "    # Chemin complet pour sauvegarder l'image\n",
    "    save_path = os.path.join(folder_name, img_filename)\n",
    "    \n",
    "    # Télécharger et sauvegarder l'image\n",
    "    img_data = requests.get(img_url).content\n",
    "    with open(save_path, 'wb') as handler:\n",
    "        handler.write(img_data)\n",
    "    print(f'Image téléchargée et sauvegardée sous : {save_path}')\n",
    "\n",
    "# Fermer le navigateur une fois terminé\n",
    "#driver.quit()\n"
   ]
  },
  {
   "cell_type": "code",
   "execution_count": 36,
   "metadata": {},
   "outputs": [
    {
     "name": "stderr",
     "output_type": "stream",
     "text": [
      "Traceback (most recent call last):\n",
      "Traceback (most recent call last):\n",
      "  File \"<string>\", line 1, in <module>\n",
      "  File \"/opt/homebrew/Cellar/python@3.11/3.11.6/Frameworks/Python.framework/Versions/3.11/lib/python3.11/multiprocessing/spawn.py\", line 122, in spawn_main\n",
      "  File \"<string>\", line 1, in <module>\n",
      "  File \"/opt/homebrew/Cellar/python@3.11/3.11.6/Frameworks/Python.framework/Versions/3.11/lib/python3.11/multiprocessing/spawn.py\", line 122, in spawn_main\n",
      "    exitcode = _main(fd, parent_sentinel)\n",
      "               ^^^^^^^^^^^^^^^^^^^^^^^^^^\n",
      "  File \"/opt/homebrew/Cellar/python@3.11/3.11.6/Frameworks/Python.framework/Versions/3.11/lib/python3.11/multiprocessing/spawn.py\", line 132, in _main\n",
      "    exitcode = _main(fd, parent_sentinel)\n",
      "    self = reduction.pickle.load(from_parent)\n",
      "           ^^^^^^^^^^^^^^^^^^^^^        ^       ^^^^^^^^^^^^^^^^^^^^^^^^\n",
      "^^^^^^^^Traceback (most recent call last):\n",
      "^^AttributeError^  File \"<string>\", line 1, in <module>\n",
      "^: ^Can't get attribute 'Selenium_images' on <module '__main__' (built-in)>  File \"/opt/homebrew/Cellar/python@3.11/3.11.6/Frameworks/Python.framework/Versions/3.11/lib/python3.11/multiprocessing/spawn.py\", line 122, in spawn_main\n",
      "\n",
      "^\n",
      "  File \"/opt/homebrew/Cellar/python@3.11/3.11.6/Frameworks/Python.framework/Versions/3.11/lib/python3.11/multiprocessing/spawn.py\", line 132, in _main\n",
      "    exitcode = _main(fd, parent_sentinel)\n",
      "               ^^^^^^^^^^^^^^^^^^^^^^^^^^\n",
      "  File \"/opt/homebrew/Cellar/python@3.11/3.11.6/Frameworks/Python.framework/Versions/3.11/lib/python3.11/multiprocessing/spawn.py\", line 132, in _main\n",
      "    self = reduction.pickle.load(from_parent)\n",
      "               ^^^self = reduction.pickle.load(from_parent)^^\n",
      "^^^^^^^^^^^^^^^^^^^^^^^^^^^^^\n",
      "AttributeError: Can't get attribute 'Selenium_images' on <module '__main__' (built-in)>\n",
      "           ^^^^^^^^^^^^^^^^^^^^^^^^^^^^^^^^^^\n",
      "AttributeError: Can't get attribute 'Selenium_images' on <module '__main__' (built-in)>\n",
      "Traceback (most recent call last):\n",
      "  File \"<string>\", line 1, in <module>\n",
      "  File \"/opt/homebrew/Cellar/python@3.11/3.11.6/Frameworks/Python.framework/Versions/3.11/lib/python3.11/multiprocessing/spawn.py\", line 122, in spawn_main\n",
      "    exitcode = _main(fd, parent_sentinel)\n",
      "               ^^^^^^^^^^^^^^^^^^^^^^^^^^\n",
      "  File \"/opt/homebrew/Cellar/python@3.11/3.11.6/Frameworks/Python.framework/Versions/3.11/lib/python3.11/multiprocessing/spawn.py\", line 132, in _main\n",
      "    self = reduction.pickle.load(from_parent)\n",
      "           ^^^^^^^^^^^^^^^^^^^^^^^^^^^^^^^^^^\n",
      "AttributeError: Can't get attribute 'Selenium_images' on <module '__main__' (built-in)>\n"
     ]
    }
   ],
   "source": [
    "from selenium import webdriver\n",
    "from selenium.webdriver.common.by import By\n",
    "from selenium.webdriver.chrome.options import Options as ChromeOptions\n",
    "from selenium.webdriver.support.ui import WebDriverWait\n",
    "from selenium.webdriver.support import expected_conditions as EC\n",
    "import os\n",
    "import requests\n",
    "from urllib.parse import urlparse\n",
    "\n",
    "\n",
    "def Selenium_images(https):\n",
    "\n",
    "    options = ChromeOptions()\n",
    "    options.add_argument('--headless') \n",
    "    driver = webdriver.Chrome(options=options)\n",
    "\n",
    "    driver.get(https)\n",
    "\n",
    "\n",
    "    # Extraire le titre de la page et formater pour le nom du fichier\n",
    "    page_title = driver.title.split('|')[0].strip().replace(' ', '_').replace(',', '').replace('-', '_')\n",
    "\n",
    "    print(page_title)\n",
    "\n",
    "    images = driver.find_elements(By.CSS_SELECTOR, \".fotorama__stage__shaft.fotorama__grab img\")\n",
    "\n",
    "    # print(images)\n",
    "    # Créer un dossier pour les images si ce n'est pas déjà fait\n",
    "    folder_name = 'image/'+page_title\n",
    "    if not os.path.exists(folder_name):\n",
    "        os.makedirs(folder_name)\n",
    "\n",
    "\n",
    "    for img in images:\n",
    "        img_url = img.get_attribute('src')\n",
    "        # Extraire le nom du fichier de l'URL de l'image\n",
    "        img_filename = urlparse(img_url).path.split('/')[-1]\n",
    "        # Chemin complet pour sauvegarder l'image\n",
    "        save_path = os.path.join(folder_name, img_filename)\n",
    "        \n",
    "        # Télécharger et sauvegarder l'image\n",
    "        img_data = requests.get(img_url).content\n",
    "        with open(save_path, 'wb') as handler:\n",
    "            handler.write(img_data)\n",
    "        print(f'Image téléchargée et sauvegardée sous : {save_path}')\n",
    "\n",
    "    # Fermer le navigateur une fois terminé\n",
    "    driver.quit()\n",
    "\n",
    "from multiprocessing import Process\n",
    "\n",
    "urls = [\n",
    "\n",
    "    \"https://www.boticinal.com/mavala-vernis-a-ongles-305-samarkand-5ml.html\",\n",
    "    \"https://www.boticinal.com/biotherm-biosource-fraicheur-de-mousse-150ml.html\",\n",
    "    \"https://www.boticinal.com/biotherm-oil-therapy-baume-corps-400ml.html\",\n",
    "    \"https://www.boticinal.com/biotherm-lait-corporel-anti-dessechant-400ml.html\",\n",
    "]\n",
    "\n",
    "processes = []\n",
    "\n",
    "for url in urls:\n",
    "    p = Process(target=Selenium_images, args=(url,))\n",
    "    p.start()\n",
    "    processes.append(p)\n",
    "\n",
    "for p in processes:\n",
    "    p.join()"
   ]
  },
  {
   "cell_type": "code",
   "execution_count": 12,
   "metadata": {},
   "outputs": [],
   "source": [
    "from selenium import webdriver\n",
    "from selenium.webdriver.firefox.options import Options as FirefoxOptions\n",
    "\n",
    "# Configurer les options de Firefox si nécessaire\n",
    "options = FirefoxOptions()\n",
    "# options.add_argument('-headless')  # Décommentez pour exécuter Firefox en mode sans tête\n",
    "\n",
    "# Initialiser le pilote Firefox\n",
    "# Assurez-vous que le chemin vers geckodriver est dans votre PATH ou spécifiez le chemin explicitement avec l'argument 'executable_path'\n",
    "driver = webdriver.Firefox(options=options)\n",
    "\n",
    "# Naviguer vers le site web\n",
    "driver.get(\"https://www.boticinal.com/biotherm-eau-vitaminee-100ml.html\")\n"
   ]
  },
  {
   "cell_type": "code",
   "execution_count": 34,
   "metadata": {},
   "outputs": [],
   "source": [
    "from selenium import webdriver\n",
    "from selenium.webdriver.chrome.options import Options as ChromeOptions\n",
    "\n",
    "# Configurer les options de Chrome si nécessaire\n",
    "options = ChromeOptions()\n",
    "# options.add_argument('--headless')  # Décommentez pour exécuter Chrome en mode sans tête\n",
    "\n",
    "# Initialiser le pilote Chrome\n",
    "# Assurez-vous que le chemin vers chromedriver est dans votre PATH ou spécifiez le chemin explicitement avec l'argument 'executable_path'\n",
    "driver = webdriver.Chrome(options=options)\n",
    "\n",
    "# Naviguer vers le site web\n",
    "driver.get(\"https://chat.openai.com\")\n"
   ]
  }
 ],
 "metadata": {
  "kernelspec": {
   "display_name": "env",
   "language": "python",
   "name": "python3"
  },
  "language_info": {
   "codemirror_mode": {
    "name": "ipython",
    "version": 3
   },
   "file_extension": ".py",
   "mimetype": "text/x-python",
   "name": "python",
   "nbconvert_exporter": "python",
   "pygments_lexer": "ipython3",
   "version": "3.11.6"
  }
 },
 "nbformat": 4,
 "nbformat_minor": 2
}
