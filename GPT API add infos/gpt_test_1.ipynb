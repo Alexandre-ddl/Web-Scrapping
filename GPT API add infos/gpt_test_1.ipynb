{
 "cells": [
  {
   "cell_type": "code",
   "execution_count": null,
   "metadata": {},
   "outputs": [],
   "source": [
    "from openai import OpenAI\n",
    "\n",
    "client = OpenAI()\n",
    "\n",
    "def generate_content(prompt, system_message):\n",
    "    return client.chat.completions.create(\n",
    "        model=\"gpt-4-turbo-preview\",\n",
    "        messages=[\n",
    "            {\"role\": \"system\", \"content\": system_message},\n",
    "            {\"role\": \"user\", \"content\": prompt}\n",
    "        ]\n",
    "    )\n",
    "\n",
    "def enrich_product_info(title, description, composition, usage_tips, categories, brand, is_bio, sale_region=\"Martinique\"):\n",
    "    product_data = f\"Titre: {title}, Description: {description}, Composition: {composition}, Conseils d'utilisation: {usage_tips}, Catégories: {categories}, Marque: {brand}, Bio: {'Oui' if is_bio else 'Non'}, Zone de vente: {sale_region}.\"\n",
    "\n",
    "    tasks = [\n",
    "        {\"name\": \"customer_reviews\", \"prompt\": \"Générer trois avis clients fictifs.\", \"system_message\": \"Vous êtes client d'une pharmacie en Martinique, capable de rédiger des avis sur des produits pharmaceutiques.\"},\n",
    "        {\"name\": \"keywords\", \"prompt\": \"Générer une liste de mots-clés pertinents pour le SEO.\", \"system_message\": \"Vous êtes le créateur d'un site web de pharmacie, votre objectif est d'augmenter la visibilité du site.\"},\n",
    "        {\"name\": \"titles\", \"prompt\": \"Générer cinq titres alternatifs pour ce produit.\", \"system_message\": \"Vous êtes le créateur d'un site web de pharmacie, votre objectif est d'augmenter la visibilité du site.\"},\n",
    "        {\"name\": \"blog_advice\", \"prompt\": \"Générer des conseils d'utilisation pour un blog pour promouvoir ce produit.\", \"system_message\": \"Vous êtes un créateur de contenu de blog.\"}\n",
    "    ]\n",
    "\n",
    "    results = {}\n",
    "    for task in tasks:\n",
    "        full_prompt = f\"En se basant sur ces informations : {product_data} {task['prompt']}\"\n",
    "        results[task['name']] = generate_content(full_prompt, task['system_message'])\n",
    "\n",
    "    return results\n",
    "\n",
    "# Exemple d'utilisation de la fonction\n",
    "product_info = {\n",
    "    \"title\": \"PERFECT - Sucettes Symétriques - Animaux - 6 Mois et Plus, 2 Unités | Mam - Parapharmacie Boticinal\",\n",
    "    \"description\": \"Pour qui :Bébés à partir de l'âge de 6 mois Forme :Symétrique On aime :Les trous d'aération laissent la peau respirer Résultats :Bébé reste calme et apaisé grâce aux sucettes Les Sucettes Symétriques Perfect de MAM avec comme motif des animaux respectent le besoin naturel de succion des bébés âgés de 6 mois. Elles sont composées avec du propylène sans BPA, ni BPS et du silicone très doux unique. Les sucettes ont une collerette arrondie et des trous d'aérations qui vont laisser la peau respirer afin d'éviter les irritations et rougeurs. Les sucettes apaisent et calment votre bébé en toutes circonstances. Elles possèdent une forme symétrique et plate qui en plus de respecter le bon développement des dents. La boîte de transport fournie avec les sucettes sert à transporter les sucettes, mais aussi à les stériliser. Important : Coloris aléatoire au moment de la livraison.\",\n",
    "    \"composition\": \"Silicone doux SkinSoft. Sucette sans BPA, ni BPS.\",\n",
    "    \"usage_tips\": \"Stérilisez la sucette pendant 5 minutes avant de la donner à votre bébé.\",\n",
    "    \"categories\": \"Bébé, Soins, Sucettes\",\n",
    "    \"brand\": \"Mam\",\n",
    "    \"is_bio\": False\n",
    "}\n",
    "\n",
    "enriched_info = enrich_product_info(**product_info)\n",
    "print(enriched_info)\n"
   ]
  },
  {
   "cell_type": "code",
   "execution_count": null,
   "metadata": {},
   "outputs": [],
   "source": [
    "customer_reviews = enriched_info['customer_reviews'].choices[0].message.content.split(\"**Avis\")\n",
    "\n",
    "print('Avis client',customer_reviews[1])\n",
    "print('Avis client',customer_reviews[2])\n",
    "print('Avis client',customer_reviews[3])"
   ]
  },
  {
   "cell_type": "code",
   "execution_count": null,
   "metadata": {},
   "outputs": [],
   "source": [
    "customer_reviews = enriched_info['customer_reviews'].choices[0].message.content.split(\"Avis client\")\n",
    "\n",
    "print('Avis client',customer_reviews[1])\n",
    "print('Avis client',customer_reviews[2])\n",
    "print('Avis client',customer_reviews[3])"
   ]
  },
  {
   "cell_type": "code",
   "execution_count": null,
   "metadata": {},
   "outputs": [],
   "source": [
    "print(enriched_info['keywords'].choices[0].message.content)"
   ]
  },
  {
   "cell_type": "code",
   "execution_count": null,
   "metadata": {},
   "outputs": [],
   "source": [
    "print(enriched_info['titles'].choices[0].message.content)"
   ]
  }
 ],
 "metadata": {
  "language_info": {
   "name": "python"
  }
 },
 "nbformat": 4,
 "nbformat_minor": 2
}
