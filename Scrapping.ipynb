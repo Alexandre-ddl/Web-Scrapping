{
 "cells": [
  {
   "cell_type": "code",
   "execution_count": 35,
   "metadata": {},
   "outputs": [
    {
     "name": "stdout",
     "output_type": "stream",
     "text": [
      "L'image a été téléchargée et sauvegardée sous : images/powersante-la-roche-posay-effaclar-gel-moussant-purifiant-400-ml.png\n",
      "Les données ont été ajoutées dans product_images.csv\n"
     ]
    }
   ],
   "source": [
    "import requests\n",
    "from bs4 import BeautifulSoup\n",
    "import os\n",
    "import pandas as pd\n",
    "\n",
    "def clean_filename(url):\n",
    "    filename = url.split('/')[-1].split('?')[0]\n",
    "    if not filename.lower().endswith(('.png', '.jpeg', '.jpg')):\n",
    "        filename += '.jpeg'\n",
    "    return filename\n",
    "\n",
    "def get_product_info(url, save_path):\n",
    "    response = requests.get(url)\n",
    "    soup = BeautifulSoup(response.text, 'html.parser')\n",
    "    \n",
    "    # Récupère le titre de la page\n",
    "    page_title = soup.select_one('title').text if soup.select_one('title') else 'No Title'\n",
    "    \n",
    "    product_images = soup.find_all('img', {'alt': 'main product photo', 'class': 'gallery-placeholder__image'})\n",
    "    \n",
    "    products = []\n",
    "    \n",
    "    for img in product_images:\n",
    "        image_url = img['src']\n",
    "        img_response = requests.get(image_url, stream=True)\n",
    "        \n",
    "        if img_response.status_code == 200:\n",
    "            filename = clean_filename(image_url)\n",
    "            filepath = os.path.join(save_path, filename)\n",
    "            \n",
    "            with open(filepath, 'wb') as f:\n",
    "                for chunk in img_response.iter_content(1024):\n",
    "                    f.write(chunk)\n",
    "            \n",
    "            print(f'L\\'image a été téléchargée et sauvegardée sous : {filepath}')\n",
    "            products.append({\n",
    "                'filename': filename,\n",
    "                'title': page_title,\n",
    "            })\n",
    "        else:\n",
    "            print('Échec du téléchargement de l\\'image.')\n",
    "\n",
    "    return products\n",
    "\n",
    "\n",
    "# Fonction pour sauvegarder les données dans un fichier CSV en mode ajout\n",
    "def save_to_csv(products, save_path, csv_filename=\"product_images.csv\"):\n",
    "    # Chemin complet du fichier CSV\n",
    "    csv_path = os.path.join(save_path, csv_filename)\n",
    "    \n",
    "    # Crée un DataFrame à partir des produits\n",
    "    df = pd.DataFrame(products)\n",
    "    \n",
    "    # Vérifie si le fichier existe déjà pour décider de l'en-tête\n",
    "    header = not os.path.exists(csv_path)\n",
    "    \n",
    "    # Ajoute les données au fichier CSV, 'a' pour append, ajout à la fin\n",
    "    df.to_csv(csv_path, mode='a', index=False, header=header, encoding='utf-8')\n",
    "    print(f'Les données ont été ajoutées dans {csv_path}')\n",
    "\n",
    "\n",
    "#url = 'https://www.boticinal.com/la-roche-posay-toleriane-sensitive-creme-hydratante-anti-rougeurs-40ml.html'\n",
    "url = 'https://www.boticinal.com/la-roche-posay-effaclar-gel-moussant-nettoyant-visage-anti-boutons-anti-points-noirs-400ml.html'\n",
    "save_path = \"images\"  # Ou spécifiez un chemin de répertoire\n",
    "products = get_product_info(url, save_path)\n",
    "\n",
    "# Sauvegarde des informations dans un fichier CSV\n",
    "save_to_csv(products,\"\")\n"
   ]
  },
  {
   "cell_type": "code",
   "execution_count": 38,
   "metadata": {},
   "outputs": [
    {
     "ename": "FeatureNotFound",
     "evalue": "Couldn't find a tree builder with the features you requested: lxml-xml. Do you need to install a parser library?",
     "output_type": "error",
     "traceback": [
      "\u001b[0;31m---------------------------------------------------------------------------\u001b[0m",
      "\u001b[0;31mFeatureNotFound\u001b[0m                           Traceback (most recent call last)",
      "Cell \u001b[0;32mIn[38], line 30\u001b[0m\n\u001b[1;32m     27\u001b[0m sitemap_index_url \u001b[38;5;241m=\u001b[39m \u001b[38;5;124m'\u001b[39m\u001b[38;5;124mhttps://www.boticinal.com/sitemap.xml\u001b[39m\u001b[38;5;124m'\u001b[39m\n\u001b[1;32m     29\u001b[0m \u001b[38;5;66;03m# Obtenez les URLs des sitemaps\u001b[39;00m\n\u001b[0;32m---> 30\u001b[0m sitemap_urls \u001b[38;5;241m=\u001b[39m \u001b[43mget_sitemap_urls\u001b[49m\u001b[43m(\u001b[49m\u001b[43msitemap_index_url\u001b[49m\u001b[43m)\u001b[49m\n\u001b[1;32m     32\u001b[0m \u001b[38;5;66;03m# Obtenez les URLs des pages à partir des sitemaps individuels\u001b[39;00m\n\u001b[1;32m     33\u001b[0m page_urls \u001b[38;5;241m=\u001b[39m get_page_urls(sitemap_urls)\n",
      "Cell \u001b[0;32mIn[38], line 7\u001b[0m, in \u001b[0;36mget_sitemap_urls\u001b[0;34m(sitemap_index_url)\u001b[0m\n\u001b[1;32m      4\u001b[0m \u001b[38;5;28;01mdef\u001b[39;00m \u001b[38;5;21mget_sitemap_urls\u001b[39m(sitemap_index_url):\n\u001b[1;32m      5\u001b[0m     \u001b[38;5;66;03m# Télécharge le contenu de l'index sitemap\u001b[39;00m\n\u001b[1;32m      6\u001b[0m     response \u001b[38;5;241m=\u001b[39m requests\u001b[38;5;241m.\u001b[39mget(sitemap_index_url)\n\u001b[0;32m----> 7\u001b[0m     soup \u001b[38;5;241m=\u001b[39m \u001b[43mBeautifulSoup\u001b[49m\u001b[43m(\u001b[49m\u001b[43mresponse\u001b[49m\u001b[38;5;241;43m.\u001b[39;49m\u001b[43mcontent\u001b[49m\u001b[43m,\u001b[49m\u001b[43m \u001b[49m\u001b[38;5;124;43m'\u001b[39;49m\u001b[38;5;124;43mlxml-xml\u001b[39;49m\u001b[38;5;124;43m'\u001b[39;49m\u001b[43m)\u001b[49m  \u001b[38;5;66;03m# Utilisez 'lxml-xml' pour analyser les fichiers XML avec lxml\u001b[39;00m\n\u001b[1;32m      9\u001b[0m     \u001b[38;5;66;03m# Trouve tous les éléments <loc> qui contiennent les URLs des sitemaps\u001b[39;00m\n\u001b[1;32m     10\u001b[0m     sitemap_urls \u001b[38;5;241m=\u001b[39m [loc\u001b[38;5;241m.\u001b[39mtext \u001b[38;5;28;01mfor\u001b[39;00m loc \u001b[38;5;129;01min\u001b[39;00m soup\u001b[38;5;241m.\u001b[39mfind_all(\u001b[38;5;124m'\u001b[39m\u001b[38;5;124mloc\u001b[39m\u001b[38;5;124m'\u001b[39m)]\n",
      "File \u001b[0;32m~/Desktop/Scrapping web/env/lib/python3.11/site-packages/bs4/__init__.py:250\u001b[0m, in \u001b[0;36mBeautifulSoup.__init__\u001b[0;34m(self, markup, features, builder, parse_only, from_encoding, exclude_encodings, element_classes, **kwargs)\u001b[0m\n\u001b[1;32m    248\u001b[0m     builder_class \u001b[38;5;241m=\u001b[39m builder_registry\u001b[38;5;241m.\u001b[39mlookup(\u001b[38;5;241m*\u001b[39mfeatures)\n\u001b[1;32m    249\u001b[0m     \u001b[38;5;28;01mif\u001b[39;00m builder_class \u001b[38;5;129;01mis\u001b[39;00m \u001b[38;5;28;01mNone\u001b[39;00m:\n\u001b[0;32m--> 250\u001b[0m         \u001b[38;5;28;01mraise\u001b[39;00m FeatureNotFound(\n\u001b[1;32m    251\u001b[0m             \u001b[38;5;124m\"\u001b[39m\u001b[38;5;124mCouldn\u001b[39m\u001b[38;5;124m'\u001b[39m\u001b[38;5;124mt find a tree builder with the features you \u001b[39m\u001b[38;5;124m\"\u001b[39m\n\u001b[1;32m    252\u001b[0m             \u001b[38;5;124m\"\u001b[39m\u001b[38;5;124mrequested: \u001b[39m\u001b[38;5;132;01m%s\u001b[39;00m\u001b[38;5;124m. Do you need to install a parser library?\u001b[39m\u001b[38;5;124m\"\u001b[39m\n\u001b[1;32m    253\u001b[0m             \u001b[38;5;241m%\u001b[39m \u001b[38;5;124m\"\u001b[39m\u001b[38;5;124m,\u001b[39m\u001b[38;5;124m\"\u001b[39m\u001b[38;5;241m.\u001b[39mjoin(features))\n\u001b[1;32m    255\u001b[0m \u001b[38;5;66;03m# At this point either we have a TreeBuilder instance in\u001b[39;00m\n\u001b[1;32m    256\u001b[0m \u001b[38;5;66;03m# builder, or we have a builder_class that we can instantiate\u001b[39;00m\n\u001b[1;32m    257\u001b[0m \u001b[38;5;66;03m# with the remaining **kwargs.\u001b[39;00m\n\u001b[1;32m    258\u001b[0m \u001b[38;5;28;01mif\u001b[39;00m builder \u001b[38;5;129;01mis\u001b[39;00m \u001b[38;5;28;01mNone\u001b[39;00m:\n",
      "\u001b[0;31mFeatureNotFound\u001b[0m: Couldn't find a tree builder with the features you requested: lxml-xml. Do you need to install a parser library?"
     ]
    }
   ],
   "source": [
    "import requests\n",
    "from bs4 import BeautifulSoup\n",
    "\n",
    "def get_sitemap_urls(sitemap_index_url):\n",
    "    # Télécharge le contenu de l'index sitemap\n",
    "    response = requests.get(sitemap_index_url)\n",
    "    soup = BeautifulSoup(response.content, 'lxml-xml')  # Utilisez 'lxml-xml' pour analyser les fichiers XML avec lxml\n",
    "    \n",
    "    # Trouve tous les éléments <loc> qui contiennent les URLs des sitemaps\n",
    "    sitemap_urls = [loc.text for loc in soup.find_all('loc')]\n",
    "    \n",
    "    return sitemap_urls\n",
    "\n",
    "def get_page_urls(sitemap_urls):\n",
    "    page_urls = []\n",
    "    for sitemap_url in sitemap_urls:\n",
    "        # Télécharge chaque sitemap individuel\n",
    "        response = requests.get(sitemap_url)\n",
    "        soup = BeautifulSoup(response.content, 'lxml-xml')\n",
    "        \n",
    "        # Extrait les URLs des pages\n",
    "        page_urls.extend([loc.text for loc in soup.find_all('loc')])\n",
    "    \n",
    "    return page_urls\n",
    "\n",
    "# URL de l'index sitemap\n",
    "sitemap_index_url = 'https://www.boticinal.com/sitemap.xml'\n",
    "\n",
    "# Obtenez les URLs des sitemaps\n",
    "sitemap_urls = get_sitemap_urls(sitemap_index_url)\n",
    "\n",
    "# Obtenez les URLs des pages à partir des sitemaps individuels\n",
    "page_urls = get_page_urls(sitemap_urls)\n",
    "\n",
    "# Affichez ou utilisez les URLs des pages\n",
    "for url in page_urls:\n",
    "    print(url)"
   ]
  }
 ],
 "metadata": {
  "kernelspec": {
   "display_name": "env",
   "language": "python",
   "name": "python3"
  },
  "language_info": {
   "codemirror_mode": {
    "name": "ipython",
    "version": 3
   },
   "file_extension": ".py",
   "mimetype": "text/x-python",
   "name": "python",
   "nbconvert_exporter": "python",
   "pygments_lexer": "ipython3",
   "version": "3.11.6"
  }
 },
 "nbformat": 4,
 "nbformat_minor": 2
}
